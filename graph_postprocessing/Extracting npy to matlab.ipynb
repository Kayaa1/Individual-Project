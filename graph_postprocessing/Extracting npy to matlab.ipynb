{
 "cells": [
  {
   "cell_type": "code",
   "execution_count": 5,
   "metadata": {},
   "outputs": [],
   "source": [
    "import numpy as np\n",
    "import scipy.io\n",
    "import os\n",
    "\n",
    "# Path to the directory containing the .npy files\n",
    "data_directory = \"../datasaved/\"\n",
    "# Current directory where the .mat file will be saved\n",
    "current_directory = './'\n",
    "\n",
    "# Aggregate dictionary for all .npy data\n",
    "aggregate_data = {}\n",
    "\n",
    "# List all .npy files in the directory\n",
    "npy_files = [f for f in os.listdir(data_directory) if f.endswith('.npy')]\n",
    "\n",
    "# For each .npy file, load the data and add it to the aggregate dictionary\n",
    "for npy_file in npy_files:\n",
    "    # Load the numpy array\n",
    "    data = np.load(os.path.join(data_directory, npy_file))\n",
    "    \n",
    "    # Add the data to the aggregate dictionary using the filename without extension as key\n",
    "    aggregate_data[npy_file.split('.')[0]] = data\n",
    "\n",
    "# Save all data in the aggregate dictionary to a .mat file named 'datafrompython.mat'\n",
    "scipy.io.savemat(os.path.join(current_directory, 'datafrompython.mat'), aggregate_data)\n"
   ]
  }
 ],
 "metadata": {
  "kernelspec": {
   "display_name": "base",
   "language": "python",
   "name": "python3"
  },
  "language_info": {
   "codemirror_mode": {
    "name": "ipython",
    "version": 3
   },
   "file_extension": ".py",
   "mimetype": "text/x-python",
   "name": "python",
   "nbconvert_exporter": "python",
   "pygments_lexer": "ipython3",
   "version": "3.9.12"
  }
 },
 "nbformat": 4,
 "nbformat_minor": 2
}
